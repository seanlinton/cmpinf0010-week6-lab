{
 "cells": [
  {
   "cell_type": "code",
   "execution_count": 8,
   "metadata": {},
   "outputs": [
    {
     "name": "stdout",
     "output_type": "stream",
     "text": [
      "Enter your name.\n"
     ]
    },
    {
     "name": "stdin",
     "output_type": "stream",
     "text": [
      " Sean\n"
     ]
    },
    {
     "name": "stdout",
     "output_type": "stream",
     "text": [
      "Enter your favorite number.\n"
     ]
    },
    {
     "name": "stdin",
     "output_type": "stream",
     "text": [
      " 10\n"
     ]
    },
    {
     "name": "stdout",
     "output_type": "stream",
     "text": [
      "Hello, Sean. I will say this 11 more times\n",
      "Hello, Sean. I will say this 10 more times\n",
      "Hello, Sean. I will say this 9 more times\n",
      "Hello, Sean. I will say this 8 more times\n",
      "Hello, Sean. I will say this 7 more times\n",
      "Hello, Sean. I will say this 6 more times\n",
      "Hello, Sean. I will say this 5 more times\n",
      "Hello, Sean. I will say this 4 more times\n",
      "Hello, Sean. I will say this 3 more times\n",
      "Hello, Sean. I will say this 2 more times\n"
     ]
    }
   ],
   "source": [
    "print (\"Enter your name.\")\n",
    "name = input()\n",
    "\n",
    "print (\"Enter your favorite number.\")\n",
    "num = int(input())\n",
    "\n",
    "for i in range(0, num):\n",
    "    print (f\"Hello, {name}. I will say this {num-i-1} more times\")\n",
    "    if i == 100:\n",
    "        print (\"Actually, that's enough of that.\")\n",
    "        break"
   ]
  },
  {
   "cell_type": "code",
   "execution_count": null,
   "metadata": {},
   "outputs": [],
   "source": []
  }
 ],
 "metadata": {
  "kernelspec": {
   "display_name": "Python 3.7",
   "language": "python",
   "name": "python3"
  },
  "language_info": {
   "codemirror_mode": {
    "name": "ipython",
    "version": 3
   },
   "file_extension": ".py",
   "mimetype": "text/x-python",
   "name": "python",
   "nbconvert_exporter": "python",
   "pygments_lexer": "ipython3",
   "version": "3.7.0"
  }
 },
 "nbformat": 4,
 "nbformat_minor": 2
}
