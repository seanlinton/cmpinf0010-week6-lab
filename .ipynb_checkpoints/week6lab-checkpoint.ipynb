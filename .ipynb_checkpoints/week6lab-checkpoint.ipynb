{
 "cells": [
  {
   "cell_type": "code",
   "execution_count": 7,
   "metadata": {},
   "outputs": [
    {
     "name": "stdin",
     "output_type": "stream",
     "text": [
      "What is your name? 0\n",
      "What is your favorite number? 0\n"
     ]
    },
    {
     "name": "stdout",
     "output_type": "stream",
     "text": [
      "0's favorite number is even\n"
     ]
    }
   ],
   "source": [
    "name = input(\"What is your name?\")\n",
    "num = input(\"What is your favorite number?\")\n",
    "\n",
    "try:\n",
    "    \n",
    "    if(int(num) % 2 == 0):\n",
    "        print(name + \"'s favorite number is even\")\n",
    "    else:\n",
    "        print(name + \"'s favorite number is odd\")\n",
    "except:\n",
    "    print(name + \"'s favorite number is not actually a number\")"
   ]
  },
  {
   "cell_type": "markdown",
   "metadata": {},
   "source": [
    "This program asks for a name and a favorite number, then tells the user whether the number is even, odd, or not a number at all."
   ]
  }
 ],
 "metadata": {
  "kernelspec": {
   "display_name": "Python 3.7",
   "language": "python",
   "name": "python3"
  },
  "language_info": {
   "codemirror_mode": {
    "name": "ipython",
    "version": 3
   },
   "file_extension": ".py",
   "mimetype": "text/x-python",
   "name": "python",
   "nbconvert_exporter": "python",
   "pygments_lexer": "ipython3",
   "version": "3.7.0"
  }
 },
 "nbformat": 4,
 "nbformat_minor": 2
}
